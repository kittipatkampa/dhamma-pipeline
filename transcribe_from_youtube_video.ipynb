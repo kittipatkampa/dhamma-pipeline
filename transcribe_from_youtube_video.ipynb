{
 "cells": [
  {
   "cell_type": "code",
   "execution_count": 3,
   "id": "47b9e823-13fd-4257-b864-46396efa08ea",
   "metadata": {},
   "outputs": [],
   "source": [
    "import os\n",
    "from typing import Union, Tuple\n",
    "from IPython.display import Audio, display, HTML\n",
    "from pytube import YouTube"
   ]
  },
  {
   "cell_type": "code",
   "execution_count": 4,
   "id": "a7bd5c01-0eb2-42d1-ab59-d3fb1c7ad70a",
   "metadata": {},
   "outputs": [],
   "source": [
    "def construct_embed_url(vid_key: str, t_start: Union[int, None], t_stop: Union[int, None]) -> str:\n",
    "    if t_start and t_stop:\n",
    "        assert t_start < t_stop, f\"Wait, the start timestamp `t_start` ({t_start}) is supposed to be less than the end timestamp `t_stop` ({t_stop})\"\n",
    "\n",
    "    if vid_key:\n",
    "        embed_url = f\"https://www.youtube.com/embed/{vid_key}?rel=0\"\n",
    "    if t_start:\n",
    "        embed_url += f\"&start={t_start}\"\n",
    "    if t_stop:\n",
    "        embed_url += f\"&end={t_stop}\"\n",
    "    embed_url += \"&;controls=0&;showinfo=0\"\n",
    "    return embed_url\n",
    "\n",
    "# Create a YouTube object and get the video stream with the highest resolution\n",
    "def download_youtube_video_by_key(vid_key: str, \n",
    "                                  output_dir: str='', \n",
    "                                  out_filename: str='clip', \n",
    "                                  file_ext: str='mp4', \n",
    "                                  audio_only: bool=False\n",
    "                                 ) -> Tuple[str, str]:\n",
    "    vid_url = f'https://youtu.be/{vid_key}'\n",
    "\n",
    "    yt = YouTube(vid_url)\n",
    "    download_filename = f'{out_filename}.{file_ext}'\n",
    "    \n",
    "    if audio_only:\n",
    "        ## get audio only\n",
    "        stream = yt.streams.get_audio_only(subtype=file_ext)\n",
    "    else:\n",
    "        ## get both video and audio\n",
    "        stream = yt.streams.get_highest_resolution()\n",
    "\n",
    "    # Download the video\n",
    "    stream.download(output_dir, filename=download_filename)\n",
    "    \n",
    "    return output_dir, download_filename\n",
    "\n",
    "# Use ffmpeg to extract the desired section of the video and audio\n",
    "def crop_clip(output_dir: str, input_filename: str, output_filename: str=None) -> Tuple[str, str]:\n",
    "    if output_filename is None:\n",
    "        filename, ext = input_filename.split('.')\n",
    "        output_filename = f'{filename}_cropped.{ext}'\n",
    "    cmd = f\"yes y | ffmpeg -i {os.path.join(output_dir, input_filename)} -ss {t_start} -to {t_stop} -c copy {os.path.join(output_dir, output_filename)}\"\n",
    "    os.system(cmd)\n",
    "    return output_dir, output_filename"
   ]
  },
  {
   "cell_type": "code",
   "execution_count": 10,
   "id": "f088ea86-5811-47f9-94fb-f9a82091aaa3",
   "metadata": {},
   "outputs": [
    {
     "name": "stdin",
     "output_type": "stream",
     "text": [
      "YouTube video hash (e.g. 'ZmUENUZx2w0' for 'https://youtu.be/ZmUENUZx2w0'):  5JAAZZG2V4k\n"
     ]
    }
   ],
   "source": [
    "vid_key = input(\"YouTube video hash (e.g. 'ZmUENUZx2w0' for 'https://youtu.be/ZmUENUZx2w0'): \")\n",
    "assert vid_key is not None and isinstance(vid_key, str) and len(vid_key) > 0, \"We need the video hash here, please.\""
   ]
  },
  {
   "cell_type": "code",
   "execution_count": 11,
   "id": "f9fcc756-db5e-4927-9ad8-18d4faf85407",
   "metadata": {},
   "outputs": [
    {
     "name": "stdin",
     "output_type": "stream",
     "text": [
      "time starts (second), please leave it blank for None:  \n",
      "time ends (second), please leave it blank for None:  \n"
     ]
    },
    {
     "name": "stdout",
     "output_type": "stream",
     "text": [
      "video start:None and end:None\n"
     ]
    }
   ],
   "source": [
    "t_start = input(\"time starts (second), please leave it blank for None: \") or None\n",
    "t_stop = input(\"time ends (second), please leave it blank for None: \") or None\n",
    "\n",
    "t_start = int(t_start) if t_start else None\n",
    "t_stop = int(t_stop) if t_stop else None\n",
    "\n",
    "print(f'video start:{t_start} and end:{t_stop}')"
   ]
  },
  {
   "cell_type": "code",
   "execution_count": 12,
   "id": "0253d898-76bf-485a-af70-afb6d0039ae7",
   "metadata": {},
   "outputs": [
    {
     "name": "stdin",
     "output_type": "stream",
     "text": [
      "output directory e.g. '~/Downloads/Love_On_Top':  ~/Downloads/dhamma/5JAAZZG2V4k\n"
     ]
    },
    {
     "name": "stdout",
     "output_type": "stream",
     "text": [
      "output_dir: /Users/kittipat.kampa/Downloads/dhamma/5JAAZZG2V4k\n"
     ]
    }
   ],
   "source": [
    "output_dir = input(\"output directory e.g. '~/Downloads/Love_On_Top': \") or 'temp_out'\n",
    "output_dir = os.path.expanduser(output_dir)\n",
    "print(f'output_dir: {output_dir}')"
   ]
  },
  {
   "cell_type": "code",
   "execution_count": 13,
   "id": "9f58323f-e191-46f0-ac9a-bb7ebf48a68c",
   "metadata": {},
   "outputs": [
    {
     "name": "stdout",
     "output_type": "stream",
     "text": [
      "https://www.youtube.com/embed/5JAAZZG2V4k?rel=0&;controls=0&;showinfo=0\n"
     ]
    }
   ],
   "source": [
    "embed_url = construct_embed_url(vid_key, t_start, t_stop)\n",
    "print(embed_url)"
   ]
  },
  {
   "cell_type": "code",
   "execution_count": 14,
   "id": "172bd4d3-3595-4ff1-b8e9-42fd5b5e3dda",
   "metadata": {},
   "outputs": [
    {
     "name": "stdout",
     "output_type": "stream",
     "text": [
      "Preview\n"
     ]
    },
    {
     "data": {
      "text/html": [
       "<iframe width=\"560\" height=\"315\" src=https://www.youtube.com/embed/5JAAZZG2V4k?rel=0&;controls=0&;showinfo=0frameborder=\"0\" allowfullscreen></iframe>"
      ],
      "text/plain": [
       "<IPython.core.display.HTML object>"
      ]
     },
     "execution_count": 14,
     "metadata": {},
     "output_type": "execute_result"
    }
   ],
   "source": [
    "# Display YouTube\n",
    "print('Preview')\n",
    "HTML('<iframe width=\"560\" height=\"315\" src=' + embed_url + 'frameborder=\"0\" allowfullscreen></iframe>')"
   ]
  },
  {
   "cell_type": "code",
   "execution_count": 15,
   "id": "2f4b3bbe-7d3f-4d94-8357-e271d07dbbbf",
   "metadata": {},
   "outputs": [
    {
     "name": "stdout",
     "output_type": "stream",
     "text": [
      "The video has been downloaded to /Users/kittipat.kampa/Downloads/dhamma/5JAAZZG2V4k/clip.mp4.\n"
     ]
    }
   ],
   "source": [
    "output_dir, download_filename = download_youtube_video_by_key(vid_key, output_dir=output_dir)\n",
    "# Show a success message\n",
    "print(f\"The video has been downloaded to {os.path.join(output_dir, download_filename)}.\")"
   ]
  },
  {
   "cell_type": "code",
   "execution_count": 16,
   "id": "a941c532-7327-42b2-81b6-8df899eca9d1",
   "metadata": {},
   "outputs": [
    {
     "name": "stdout",
     "output_type": "stream",
     "text": [
      "clip_path: /Users/kittipat.kampa/Downloads/dhamma/5JAAZZG2V4k/clip.mp4\n"
     ]
    }
   ],
   "source": [
    "# crop the clip\n",
    "if (t_start is not None) or (t_stop is not None):\n",
    "    output_dir, output_filename = crop_clip(output_dir, download_filename)\n",
    "else:\n",
    "    output_filename = download_filename\n",
    "\n",
    "clip_path = os.path.join(output_dir, output_filename)\n",
    "print(f'clip_path: {clip_path}')"
   ]
  },
  {
   "cell_type": "markdown",
   "id": "aa5065fd-d7a2-4449-a0b2-e7f0fb3c150c",
   "metadata": {},
   "source": [
    "## Extract mp3 from downloaded video file"
   ]
  },
  {
   "cell_type": "code",
   "execution_count": 17,
   "id": "8ae60484-6295-47b9-ae24-37474799095f",
   "metadata": {},
   "outputs": [],
   "source": [
    "from moviepy.video.io.VideoFileClip import VideoFileClip"
   ]
  },
  {
   "cell_type": "code",
   "execution_count": 18,
   "id": "07649104-1b60-4e92-a559-832acfd8e462",
   "metadata": {},
   "outputs": [],
   "source": [
    "def change_file_extension(input_path: str, new_ext: str):\n",
    "    # construct output mp3 path\n",
    "    path_tokens = input_path.split('.')\n",
    "    path_tokens[-1] = new_ext\n",
    "    output_path = '.'.join(path_tokens)\n",
    "    return output_path\n",
    "    \n",
    "def extract_mp3_from_video(vid_input_path: str):\n",
    "    mp3_output_path = change_file_extension(vid_input_path, 'mp3')\n",
    "    print(f\"input_path: {vid_input_path} -> output_path: {mp3_output_path}\")\n",
    "\n",
    "    # Extract the audio from the video\n",
    "    video = VideoFileClip(vid_input_path)\n",
    "    audio = video.audio\n",
    "\n",
    "    # Save the audio to a file\n",
    "    print('converting to mp3...')\n",
    "    audio.write_audiofile(mp3_output_path)\n",
    "    print(f'Writing to mp3 file {mp3_output_path} completed')\n",
    "    \n",
    "    return mp3_output_path"
   ]
  },
  {
   "cell_type": "code",
   "execution_count": 19,
   "id": "57b36079-1c62-480e-a85d-a2b8f1bd59a1",
   "metadata": {},
   "outputs": [
    {
     "name": "stdout",
     "output_type": "stream",
     "text": [
      "input_path: /Users/kittipat.kampa/Downloads/dhamma/5JAAZZG2V4k/clip.mp4 -> output_path: /Users/kittipat.kampa/Downloads/dhamma/5JAAZZG2V4k/clip.mp3\n",
      "converting to mp3...\n",
      "MoviePy - Writing audio in /Users/kittipat.kampa/Downloads/dhamma/5JAAZZG2V4k/clip.mp3\n"
     ]
    },
    {
     "name": "stderr",
     "output_type": "stream",
     "text": [
      "                                                                                                                                                                                                                                                     "
     ]
    },
    {
     "name": "stdout",
     "output_type": "stream",
     "text": [
      "MoviePy - Done.\n",
      "Writing to mp3 file /Users/kittipat.kampa/Downloads/dhamma/5JAAZZG2V4k/clip.mp3 completed\n"
     ]
    },
    {
     "name": "stderr",
     "output_type": "stream",
     "text": [
      "\r"
     ]
    }
   ],
   "source": [
    "vid_input_path = clip_path\n",
    "mp3_output_path = extract_mp3_from_video(vid_input_path)"
   ]
  },
  {
   "cell_type": "markdown",
   "id": "e9fb9d0f-a788-4028-b584-e5c5a3ad5e55",
   "metadata": {},
   "source": [
    "## Transcibe mp3 file"
   ]
  },
  {
   "cell_type": "markdown",
   "id": "1380775a-35f8-4d2f-ae69-d27bf623d0b7",
   "metadata": {},
   "source": [
    "### openai"
   ]
  },
  {
   "cell_type": "code",
   "execution_count": 20,
   "id": "013f1342-a9b9-4b28-bca5-9986eabb0b04",
   "metadata": {},
   "outputs": [],
   "source": [
    "import openai\n",
    "import streamlit as st\n",
    "openai.api_key = st.secrets[\"OPENAI_API_KEY\"]"
   ]
  },
  {
   "cell_type": "code",
   "execution_count": 21,
   "id": "f96e5e01-fb31-41b7-8763-a59cbaff32f3",
   "metadata": {},
   "outputs": [],
   "source": [
    "# Note: you need to be using OpenAI Python v0.27.0 for the code below to work\n",
    "audio_file= open(\"/Users/kittipat.kampa/Downloads/dhamma/5JAAZZG2V4k/clip.mp3\", \"rb\")\n",
    "transcript = openai.Audio.transcribe(\"whisper-1\", audio_file)"
   ]
  },
  {
   "cell_type": "code",
   "execution_count": 23,
   "id": "32ecfedd-cc9d-47eb-a7ba-a0848cacc220",
   "metadata": {},
   "outputs": [
    {
     "data": {
      "text/plain": [
       "{'text': 'ความมือกลอมเกิดไป ความมือกลอมเกิดไป สังคมมันเปลี่ยนเร็วนะช่วงนี้ คนโบราณ รุ่น ปู่ ยาตายายลงพ่อน เกิดมายังไง ตายไปแบบนั้น บ้านเมืองไม่ค่อยเปลี่ยนแปลง ก็เปลี่ยนไปเรื่อยๆ มาถึงวันนี้ก็เปลี่ยนครั้งใหญ่นะ มีโควิดเข้ามา การดำลงชีวิตก็เปลี่ยนหมด อาชีพการงานบางอย่างก็หายไป บางอย่างก็เกิดขึ้นใหม่ คนไหนปรับตัวได้ ตามทันได้ ก็อยู่รอด ปรับตัวไม่ได้ ตามไม่ทัน ไม่เข้าใจ ก็อยู่ไม่ได้ เป็นหลับ ของการ อะไร พัฒนาการ เหมือนสัตว์ทั้งหลาย ดินฟ้า อากาศเปลี่ยนไป ปรับตัวได้ มันก็อยู่รอดมา ปรับตัวไม่ได้ หุบผ่าวอันนั้นก็หมดไป นี่เราไปควบคุม มังครับ ไม่ให้โลกมันเปลี่ยนแรง เราทำไม่ได้ เหตุปัจจั้ยต่าง ๆ มากมายที่ทำให้มันเปลี่ยน ยิ่งกํลงของกิแลจแรงเท่าไหร่ มันก็ยิ่งดินโรนที่จะให้เปลี่ยนแรง เร็วเท่านั้น นี่ถ้าเราหยับ้ายังมันไม่ได้ เราทำความเข้าใจมัน โลกนี้ต้องเปลี่ยนแรง ทุกอย่างต้องเปลี่ยนแรง สิ่งทั้งหลาย รวมแต่ไม่ที่อย่าง ฝีมวยว่าธัมมาเท่านั้นที่มันไม่เปลี่ยนแรง แล้วโลกมันเปลี่ยนแรง แต่ธัมมามันไม่เปลี่ยนแรง อย่างไรมันก็ไม่เทียง อย่างไรมันก็ทนอยู่ไม่ได้ ศพหวักท้างหลาย อย่างวันเทียวที่แล้วนิรลณภาพมาหากินนะ จิตจัดการของเราก็มั่นเก้งแล้ว อยู่ยุคก็ล่มสลายไปเฉย ๆ สิ่งทั้งหลายมาเกิดแล้วมันก็ต้องเปลี่ยนแรง ไม่คุ้งที่! มีแล้วก็หมดไป ของที่ยังไม่หมดไปก็กำลังถูก บีบขันให้หมดไป ถูกอย่างเป็นไปตามเหตุปัจจัย ไม่ใช่ตามที่เราอยาก เราสั่งน่ะได้ นี่ก็คือคำว่า อนิจัง external oppresion ถูกขัง อนาตา นะเนี่ย ตัวทุกขัง สิ่งทั้งหลายจะมีอยู่ จะหมดไป เป็นเพราะเหตุปัจจัย ไม่ใช่เพราะเราสั่ง นี่คือ อนาตา และ själ Kendha พี่ ก็คืออนิจัง ฯังความ เนื้อ ธรรมะก็ไม่เปลี่ยนเปลัง ถึงบริบทธรา สิ่งแวดลอมทั้งหลายมันเปลี่ยน เมื่เดนะเข่าของธรรมะไม่เปลี่ยน เราพัวณายังเข้าถื่อกันของธรรมะแล้ว เราจะมองเห็นสมบัติเปลี่ยนแปลงทั้งหลาย ว่ามันธรรมดา เมื่มี questioning แต่มันเป็นของธรรมดา เป็นอย่างนี้แหละ งั้นเราจะไม่ต้องต่อต้านการเปลี่ยนปลายอวก เนื่องมันต้านไม่หวาย ในขณะเดียวกันแล้ว ไม่ได้ตื่นธรรมกับความปลียน เปลี่ยน เพราะเรารู้ว่ามันต้องเป็นแบบนี้ และมันธรรมดา แบบเราการเรียนธรรมา แล้วก็เข้าใจธรรมัน เราเข้าใจว่าธรรมดาของโลก ธรรมดาของชีวิต มันเป็นนี้แหละ เพราะเราเข้าใจ เพราะใจเราก็ไม่ดินรนทุกปิด ทุกทรมาน ย่อมรับความเปลี่ยนแปลงไม่ได้'}"
      ]
     },
     "execution_count": 23,
     "metadata": {},
     "output_type": "execute_result"
    }
   ],
   "source": [
    "transcript.to_dict()"
   ]
  },
  {
   "cell_type": "markdown",
   "id": "8d590879-6e0a-4f0d-8e6a-fd0c314d7d7a",
   "metadata": {},
   "source": [
    "### GCP"
   ]
  },
  {
   "cell_type": "markdown",
   "id": "630e1b9e-7461-4bc1-ab4c-46ead926058e",
   "metadata": {},
   "source": [
    "We use speech-to-text"
   ]
  },
  {
   "cell_type": "code",
   "execution_count": 2,
   "id": "3fac2189-f804-414b-a8bc-cd656513961c",
   "metadata": {},
   "outputs": [
    {
     "ename": "DefaultCredentialsError",
     "evalue": "Your default credentials were not found. To set up Application Default Credentials, see https://cloud.google.com/docs/authentication/external/set-up-adc for more information.",
     "output_type": "error",
     "traceback": [
      "\u001b[0;31m---------------------------------------------------------------------------\u001b[0m",
      "\u001b[0;31mDefaultCredentialsError\u001b[0m                   Traceback (most recent call last)",
      "Cell \u001b[0;32mIn[2], line 6\u001b[0m\n\u001b[1;32m      3\u001b[0m \u001b[38;5;28;01mfrom\u001b[39;00m \u001b[38;5;21;01mgoogle\u001b[39;00m\u001b[38;5;21;01m.\u001b[39;00m\u001b[38;5;21;01mprotobuf\u001b[39;00m \u001b[38;5;28;01mimport\u001b[39;00m wrappers_pb2\n\u001b[1;32m      5\u001b[0m \u001b[38;5;66;03m# Instantiates a client\u001b[39;00m\n\u001b[0;32m----> 6\u001b[0m client\u001b[38;5;241m=\u001b[39m\u001b[43mspeech\u001b[49m\u001b[38;5;241;43m.\u001b[39;49m\u001b[43mSpeechClient\u001b[49m\u001b[43m(\u001b[49m\u001b[43m)\u001b[49m\n\u001b[1;32m      8\u001b[0m \u001b[38;5;66;03m# The name of the audio file to transcribe\u001b[39;00m\n\u001b[1;32m      9\u001b[0m gcs_uri\u001b[38;5;241m=\u001b[39m\u001b[38;5;124m\"\u001b[39m\u001b[38;5;124mgs://raml-sandbox-prod/audio-files/clip.mp3\u001b[39m\u001b[38;5;124m\"\u001b[39m\n",
      "File \u001b[0;32m~/Library/Caches/pypoetry/virtualenvs/dhamma-pipeline-Yo5ukCeO-py3.9/lib/python3.9/site-packages/google/cloud/speech_v1/services/speech/client.py:459\u001b[0m, in \u001b[0;36mSpeechClient.__init__\u001b[0;34m(self, credentials, transport, client_options, client_info)\u001b[0m\n\u001b[1;32m    454\u001b[0m     credentials \u001b[38;5;241m=\u001b[39m google\u001b[38;5;241m.\u001b[39mauth\u001b[38;5;241m.\u001b[39m_default\u001b[38;5;241m.\u001b[39mget_api_key_credentials(\n\u001b[1;32m    455\u001b[0m         api_key_value\n\u001b[1;32m    456\u001b[0m     )\n\u001b[1;32m    458\u001b[0m Transport \u001b[38;5;241m=\u001b[39m \u001b[38;5;28mtype\u001b[39m(\u001b[38;5;28mself\u001b[39m)\u001b[38;5;241m.\u001b[39mget_transport_class(transport)\n\u001b[0;32m--> 459\u001b[0m \u001b[38;5;28mself\u001b[39m\u001b[38;5;241m.\u001b[39m_transport \u001b[38;5;241m=\u001b[39m \u001b[43mTransport\u001b[49m\u001b[43m(\u001b[49m\n\u001b[1;32m    460\u001b[0m \u001b[43m    \u001b[49m\u001b[43mcredentials\u001b[49m\u001b[38;5;241;43m=\u001b[39;49m\u001b[43mcredentials\u001b[49m\u001b[43m,\u001b[49m\n\u001b[1;32m    461\u001b[0m \u001b[43m    \u001b[49m\u001b[43mcredentials_file\u001b[49m\u001b[38;5;241;43m=\u001b[39;49m\u001b[43mclient_options\u001b[49m\u001b[38;5;241;43m.\u001b[39;49m\u001b[43mcredentials_file\u001b[49m\u001b[43m,\u001b[49m\n\u001b[1;32m    462\u001b[0m \u001b[43m    \u001b[49m\u001b[43mhost\u001b[49m\u001b[38;5;241;43m=\u001b[39;49m\u001b[43mapi_endpoint\u001b[49m\u001b[43m,\u001b[49m\n\u001b[1;32m    463\u001b[0m \u001b[43m    \u001b[49m\u001b[43mscopes\u001b[49m\u001b[38;5;241;43m=\u001b[39;49m\u001b[43mclient_options\u001b[49m\u001b[38;5;241;43m.\u001b[39;49m\u001b[43mscopes\u001b[49m\u001b[43m,\u001b[49m\n\u001b[1;32m    464\u001b[0m \u001b[43m    \u001b[49m\u001b[43mclient_cert_source_for_mtls\u001b[49m\u001b[38;5;241;43m=\u001b[39;49m\u001b[43mclient_cert_source_func\u001b[49m\u001b[43m,\u001b[49m\n\u001b[1;32m    465\u001b[0m \u001b[43m    \u001b[49m\u001b[43mquota_project_id\u001b[49m\u001b[38;5;241;43m=\u001b[39;49m\u001b[43mclient_options\u001b[49m\u001b[38;5;241;43m.\u001b[39;49m\u001b[43mquota_project_id\u001b[49m\u001b[43m,\u001b[49m\n\u001b[1;32m    466\u001b[0m \u001b[43m    \u001b[49m\u001b[43mclient_info\u001b[49m\u001b[38;5;241;43m=\u001b[39;49m\u001b[43mclient_info\u001b[49m\u001b[43m,\u001b[49m\n\u001b[1;32m    467\u001b[0m \u001b[43m    \u001b[49m\u001b[43malways_use_jwt_access\u001b[49m\u001b[38;5;241;43m=\u001b[39;49m\u001b[38;5;28;43;01mTrue\u001b[39;49;00m\u001b[43m,\u001b[49m\n\u001b[1;32m    468\u001b[0m \u001b[43m    \u001b[49m\u001b[43mapi_audience\u001b[49m\u001b[38;5;241;43m=\u001b[39;49m\u001b[43mclient_options\u001b[49m\u001b[38;5;241;43m.\u001b[39;49m\u001b[43mapi_audience\u001b[49m\u001b[43m,\u001b[49m\n\u001b[1;32m    469\u001b[0m \u001b[43m\u001b[49m\u001b[43m)\u001b[49m\n",
      "File \u001b[0;32m~/Library/Caches/pypoetry/virtualenvs/dhamma-pipeline-Yo5ukCeO-py3.9/lib/python3.9/site-packages/google/cloud/speech_v1/services/speech/transports/grpc.py:153\u001b[0m, in \u001b[0;36mSpeechGrpcTransport.__init__\u001b[0;34m(self, host, credentials, credentials_file, scopes, channel, api_mtls_endpoint, client_cert_source, ssl_channel_credentials, client_cert_source_for_mtls, quota_project_id, client_info, always_use_jwt_access, api_audience)\u001b[0m\n\u001b[1;32m    148\u001b[0m             \u001b[38;5;28mself\u001b[39m\u001b[38;5;241m.\u001b[39m_ssl_channel_credentials \u001b[38;5;241m=\u001b[39m grpc\u001b[38;5;241m.\u001b[39mssl_channel_credentials(\n\u001b[1;32m    149\u001b[0m                 certificate_chain\u001b[38;5;241m=\u001b[39mcert, private_key\u001b[38;5;241m=\u001b[39mkey\n\u001b[1;32m    150\u001b[0m             )\n\u001b[1;32m    152\u001b[0m \u001b[38;5;66;03m# The base transport sets the host, credentials and scopes\u001b[39;00m\n\u001b[0;32m--> 153\u001b[0m \u001b[38;5;28;43msuper\u001b[39;49m\u001b[43m(\u001b[49m\u001b[43m)\u001b[49m\u001b[38;5;241;43m.\u001b[39;49m\u001b[38;5;21;43m__init__\u001b[39;49m\u001b[43m(\u001b[49m\n\u001b[1;32m    154\u001b[0m \u001b[43m    \u001b[49m\u001b[43mhost\u001b[49m\u001b[38;5;241;43m=\u001b[39;49m\u001b[43mhost\u001b[49m\u001b[43m,\u001b[49m\n\u001b[1;32m    155\u001b[0m \u001b[43m    \u001b[49m\u001b[43mcredentials\u001b[49m\u001b[38;5;241;43m=\u001b[39;49m\u001b[43mcredentials\u001b[49m\u001b[43m,\u001b[49m\n\u001b[1;32m    156\u001b[0m \u001b[43m    \u001b[49m\u001b[43mcredentials_file\u001b[49m\u001b[38;5;241;43m=\u001b[39;49m\u001b[43mcredentials_file\u001b[49m\u001b[43m,\u001b[49m\n\u001b[1;32m    157\u001b[0m \u001b[43m    \u001b[49m\u001b[43mscopes\u001b[49m\u001b[38;5;241;43m=\u001b[39;49m\u001b[43mscopes\u001b[49m\u001b[43m,\u001b[49m\n\u001b[1;32m    158\u001b[0m \u001b[43m    \u001b[49m\u001b[43mquota_project_id\u001b[49m\u001b[38;5;241;43m=\u001b[39;49m\u001b[43mquota_project_id\u001b[49m\u001b[43m,\u001b[49m\n\u001b[1;32m    159\u001b[0m \u001b[43m    \u001b[49m\u001b[43mclient_info\u001b[49m\u001b[38;5;241;43m=\u001b[39;49m\u001b[43mclient_info\u001b[49m\u001b[43m,\u001b[49m\n\u001b[1;32m    160\u001b[0m \u001b[43m    \u001b[49m\u001b[43malways_use_jwt_access\u001b[49m\u001b[38;5;241;43m=\u001b[39;49m\u001b[43malways_use_jwt_access\u001b[49m\u001b[43m,\u001b[49m\n\u001b[1;32m    161\u001b[0m \u001b[43m    \u001b[49m\u001b[43mapi_audience\u001b[49m\u001b[38;5;241;43m=\u001b[39;49m\u001b[43mapi_audience\u001b[49m\u001b[43m,\u001b[49m\n\u001b[1;32m    162\u001b[0m \u001b[43m\u001b[49m\u001b[43m)\u001b[49m\n\u001b[1;32m    164\u001b[0m \u001b[38;5;28;01mif\u001b[39;00m \u001b[38;5;129;01mnot\u001b[39;00m \u001b[38;5;28mself\u001b[39m\u001b[38;5;241m.\u001b[39m_grpc_channel:\n\u001b[1;32m    165\u001b[0m     \u001b[38;5;28mself\u001b[39m\u001b[38;5;241m.\u001b[39m_grpc_channel \u001b[38;5;241m=\u001b[39m \u001b[38;5;28mtype\u001b[39m(\u001b[38;5;28mself\u001b[39m)\u001b[38;5;241m.\u001b[39mcreate_channel(\n\u001b[1;32m    166\u001b[0m         \u001b[38;5;28mself\u001b[39m\u001b[38;5;241m.\u001b[39m_host,\n\u001b[1;32m    167\u001b[0m         \u001b[38;5;66;03m# use the credentials which are saved\u001b[39;00m\n\u001b[0;32m   (...)\u001b[0m\n\u001b[1;32m    178\u001b[0m         ],\n\u001b[1;32m    179\u001b[0m     )\n",
      "File \u001b[0;32m~/Library/Caches/pypoetry/virtualenvs/dhamma-pipeline-Yo5ukCeO-py3.9/lib/python3.9/site-packages/google/cloud/speech_v1/services/speech/transports/base.py:101\u001b[0m, in \u001b[0;36mSpeechTransport.__init__\u001b[0;34m(self, host, credentials, credentials_file, scopes, quota_project_id, client_info, always_use_jwt_access, api_audience, **kwargs)\u001b[0m\n\u001b[1;32m     97\u001b[0m     credentials, _ \u001b[38;5;241m=\u001b[39m google\u001b[38;5;241m.\u001b[39mauth\u001b[38;5;241m.\u001b[39mload_credentials_from_file(\n\u001b[1;32m     98\u001b[0m         credentials_file, \u001b[38;5;241m*\u001b[39m\u001b[38;5;241m*\u001b[39mscopes_kwargs, quota_project_id\u001b[38;5;241m=\u001b[39mquota_project_id\n\u001b[1;32m     99\u001b[0m     )\n\u001b[1;32m    100\u001b[0m \u001b[38;5;28;01melif\u001b[39;00m credentials \u001b[38;5;129;01mis\u001b[39;00m \u001b[38;5;28;01mNone\u001b[39;00m:\n\u001b[0;32m--> 101\u001b[0m     credentials, _ \u001b[38;5;241m=\u001b[39m \u001b[43mgoogle\u001b[49m\u001b[38;5;241;43m.\u001b[39;49m\u001b[43mauth\u001b[49m\u001b[38;5;241;43m.\u001b[39;49m\u001b[43mdefault\u001b[49m\u001b[43m(\u001b[49m\n\u001b[1;32m    102\u001b[0m \u001b[43m        \u001b[49m\u001b[38;5;241;43m*\u001b[39;49m\u001b[38;5;241;43m*\u001b[39;49m\u001b[43mscopes_kwargs\u001b[49m\u001b[43m,\u001b[49m\u001b[43m \u001b[49m\u001b[43mquota_project_id\u001b[49m\u001b[38;5;241;43m=\u001b[39;49m\u001b[43mquota_project_id\u001b[49m\n\u001b[1;32m    103\u001b[0m \u001b[43m    \u001b[49m\u001b[43m)\u001b[49m\n\u001b[1;32m    104\u001b[0m     \u001b[38;5;66;03m# Don't apply audience if the credentials file passed from user.\u001b[39;00m\n\u001b[1;32m    105\u001b[0m     \u001b[38;5;28;01mif\u001b[39;00m \u001b[38;5;28mhasattr\u001b[39m(credentials, \u001b[38;5;124m\"\u001b[39m\u001b[38;5;124mwith_gdch_audience\u001b[39m\u001b[38;5;124m\"\u001b[39m):\n",
      "File \u001b[0;32m~/Library/Caches/pypoetry/virtualenvs/dhamma-pipeline-Yo5ukCeO-py3.9/lib/python3.9/site-packages/google/auth/_default.py:648\u001b[0m, in \u001b[0;36mdefault\u001b[0;34m(scopes, request, quota_project_id, default_scopes)\u001b[0m\n\u001b[1;32m    640\u001b[0m             _LOGGER\u001b[38;5;241m.\u001b[39mwarning(\n\u001b[1;32m    641\u001b[0m                 \u001b[38;5;124m\"\u001b[39m\u001b[38;5;124mNo project ID could be determined. Consider running \u001b[39m\u001b[38;5;124m\"\u001b[39m\n\u001b[1;32m    642\u001b[0m                 \u001b[38;5;124m\"\u001b[39m\u001b[38;5;124m`gcloud config set project` or setting the \u001b[39m\u001b[38;5;132;01m%s\u001b[39;00m\u001b[38;5;124m \u001b[39m\u001b[38;5;124m\"\u001b[39m\n\u001b[1;32m    643\u001b[0m                 \u001b[38;5;124m\"\u001b[39m\u001b[38;5;124menvironment variable\u001b[39m\u001b[38;5;124m\"\u001b[39m,\n\u001b[1;32m    644\u001b[0m                 environment_vars\u001b[38;5;241m.\u001b[39mPROJECT,\n\u001b[1;32m    645\u001b[0m             )\n\u001b[1;32m    646\u001b[0m         \u001b[38;5;28;01mreturn\u001b[39;00m credentials, effective_project_id\n\u001b[0;32m--> 648\u001b[0m \u001b[38;5;28;01mraise\u001b[39;00m exceptions\u001b[38;5;241m.\u001b[39mDefaultCredentialsError(_CLOUD_SDK_MISSING_CREDENTIALS)\n",
      "\u001b[0;31mDefaultCredentialsError\u001b[0m: Your default credentials were not found. To set up Application Default Credentials, see https://cloud.google.com/docs/authentication/external/set-up-adc for more information."
     ]
    }
   ],
   "source": [
    "# Import the Speech-to-Text client library\n",
    "from google.cloud import speech\n",
    "from google.protobuf import wrappers_pb2\n",
    "\n",
    "# Instantiates a client\n",
    "client=speech.SpeechClient()\n",
    "\n",
    "# The name of the audio file to transcribe\n",
    "gcs_uri=\"gs://raml-sandbox-prod/audio-files/clip.mp3\"\n",
    "\n",
    "def transcribe_speech():\n",
    "    audio=speech.RecognitionAudio(uri=gcs_uri)\n",
    "    \n",
    "    config=speech.RecognitionConfig(\n",
    "    encoding=speech.RecognitionConfig.AudioEncoding.ENCODING_UNSPECIFIED,\n",
    "    sample_rate_hertz=8000,\n",
    "    language_code=\"th-TH\",\n",
    "    model=\"default\",\n",
    "    enable_word_time_offsets=True,\n",
    "    max_alternatives=3,\n",
    "    )\n",
    "    \n",
    "    # Detects speech in the audio file\n",
    "    operation=client.long_running_recognize(config=config, audio=audio)\n",
    "    \n",
    "    print(\"Waiting for operation to complete...\")\n",
    "    response=operation.result(timeout=90)\n",
    "    \n",
    "    for result in response.results:\n",
    "        print(\"Transcript: {}\".format(result.alternatives[0].transcript))"
   ]
  },
  {
   "cell_type": "code",
   "execution_count": null,
   "id": "4a6f83de-aaf9-424e-9ffe-e4dcc9d73085",
   "metadata": {},
   "outputs": [],
   "source": [
    "transcribe_speech()"
   ]
  },
  {
   "cell_type": "markdown",
   "id": "421cf522-c343-4673-b1bf-f43ca4967952",
   "metadata": {},
   "source": [
    "### AWS"
   ]
  },
  {
   "cell_type": "markdown",
   "id": "7caa1590-4520-4307-8e71-3f861500c4e4",
   "metadata": {},
   "source": [
    "We use AWS transcribe"
   ]
  },
  {
   "cell_type": "code",
   "execution_count": null,
   "id": "a37b1764-3514-427e-9e31-8b3811a351ac",
   "metadata": {},
   "outputs": [],
   "source": []
  }
 ],
 "metadata": {
  "kernelspec": {
   "display_name": "Python 3 (ipykernel)",
   "language": "python",
   "name": "python3"
  },
  "language_info": {
   "codemirror_mode": {
    "name": "ipython",
    "version": 3
   },
   "file_extension": ".py",
   "mimetype": "text/x-python",
   "name": "python",
   "nbconvert_exporter": "python",
   "pygments_lexer": "ipython3",
   "version": "3.9.17"
  }
 },
 "nbformat": 4,
 "nbformat_minor": 5
}
