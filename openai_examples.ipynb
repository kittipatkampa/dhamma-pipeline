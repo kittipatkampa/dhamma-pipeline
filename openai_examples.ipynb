{
 "cells": [
  {
   "cell_type": "code",
   "execution_count": 1,
   "id": "ab157f34-0f0b-4f3b-b4b5-27301ccac1d9",
   "metadata": {},
   "outputs": [],
   "source": [
    "import openai\n",
    "import streamlit as st"
   ]
  },
  {
   "cell_type": "code",
   "execution_count": 2,
   "id": "156503be-52a7-4bec-ace8-7e3112d37611",
   "metadata": {},
   "outputs": [],
   "source": [
    "openai.api_key = st.secrets[\"OPENAI_API_KEY\"]"
   ]
  },
  {
   "cell_type": "markdown",
   "id": "1b0a55eb-698f-4179-a793-32ff7ae80469",
   "metadata": {},
   "source": [
    "## short QAs"
   ]
  },
  {
   "cell_type": "code",
   "execution_count": 6,
   "id": "d7761ef1-449b-4dd6-8acf-de0dd037d999",
   "metadata": {},
   "outputs": [],
   "source": [
    "question_org = \"\"\"ถือศีล 5 เดินจงกรมสลับนั่งสมาธิ ใช้พุทโธเป็นวิหารธรรม ระหว่างวันพยายามรู้สึกตัว แต่ทำได้ไม่บ่อย เวลาเห็นกิเลสตัวเอง จะรู้สึกมาที่ลมหายใจและท่องพุทโธ เห็นความคิดสลับไปมา เวลาโกรธคุมตัวเองไม่ค่อยได้ หลังโกรธจบไปแล้วทุกข์ทรมานใจเป็นอย่างมาก คุมความโกรธอย่างไรดีครับ\"\"\"\n",
    "\n",
    "answer_org = \"\"\"คุมไม่ได้หรอก แต่ถ้าเราเห็นว่าพอโกรธไปแล้ว สิ่งที่ตามมาคือทุกข์ เห็นบ่อยๆ ต่อไปจิตไม่เอาหรอก มันเห็นทุกข์ เห็นทุกข์เห็นโทษ จิตก็ค่อยๆ คลายออกๆ เวลาเราโกรธคนอื่น แต่คนแรกที่ทุกข์และคนสุดท้ายที่ทุกข์ก็คือตัวเราเอง มันทุกข์ ไม่ต้องแก้ ยิ่งอยากแก้ ยิ่งโทสะแรง โกรธขึ้นมาก็รู้ หายโกรธก็รู้ ถ้าโกรธแล้วทำผิดศีล เช่นไปด่าคน อันนั้นต้องรับวิบาก ได้รับวิบากแก้ไม่ได้ อย่างเราโกรธแล้วเราด่าเขา เขาก็เกลียดเรา จิตใจเราเวลาเราอารมณ์ไม่ดี เราก็ว่าคนโน้นว่าคนนี้ เคยตัว จิตจะว่าคนได้เร็วขึ้นๆ อันนี้เป็นวิบากของเราที่เราสะสม เราจะเป็นคนไม่ดี\n",
    "\n",
    "ฉะนั้นเราอาศัยสติ โกรธขึ้นมาแล้วรู้ รู้ไม่ทันไปละเมิดศีลเข้า แล้วจิตเศร้าหมอง เราก็เห็นทุกข์เห็นโทษ เออนะ มีกิเลสแล้วไปกระทำกรรมไม่ดี ก็มีวิบากที่เศร้าหมอง แก้ไม่ได้นะวิบาก ต้องรับ แล้วต่อไปจิตจะเข็ดขยาด โอ้ โกรธทีไรก็ทุกข์ทุกทีเลย เห็นอย่างนี้ แล้วก็เลิกโกรธไปเองล่ะ จริงจังกับชีวิตเยอะเกินไปไม่ดี เหนื่อย เราจริงจังกับชีวิตมาก เราเองก็เหนื่อย คนรอบๆ เราก็เหนื่อยด้วย อีซี่ๆ หน่อย อีซี่ๆ ไว้ เออ จิตอย่างนี้ถึงจะดี แล้วคนรอบตัวเราก็ เฮ้อ เบอร์ 7 เห็นไหม จิตมีความสุขขึ้นมา ง่ายๆ อย่างนี้ ดูไป คือยิ่งไปเค้นมันยิ่งเครียด\n",
    "\"\"\""
   ]
  },
  {
   "cell_type": "code",
   "execution_count": 7,
   "id": "a03df488-d4c4-4dc8-b481-d6b44d8118d8",
   "metadata": {},
   "outputs": [],
   "source": [
    "content = f\"\"\"Please translate the following dhamma conversation from Thai to English:\n",
    "\n",
    "---\n",
    "คำถาม: {question_org}\n",
    "\n",
    "---\n",
    "คำตอบ: {answer_org}\n",
    "\n",
    "---\n",
    "\"\"\""
   ]
  },
  {
   "cell_type": "code",
   "execution_count": 8,
   "id": "5ae7a0a2-de83-4cdb-a990-433f2e75d692",
   "metadata": {},
   "outputs": [],
   "source": [
    "response = openai.ChatCompletion.create(\n",
    "    model=\"gpt-3.5-turbo\",\n",
    "    messages=[\n",
    "        {\"role\": \"system\", \"content\": \"You are a helpful Thai-to-English translator specialized for Buddhism dhamma teaching.\"},\n",
    "        {\"role\": \"user\", \"content\": content\n",
    "        }\n",
    "    ],\n",
    "    temperature=1\n",
    ")"
   ]
  },
  {
   "cell_type": "code",
   "execution_count": 9,
   "id": "2a6ee32c-9ff9-4b52-a763-6c9ddf2f4f9f",
   "metadata": {},
   "outputs": [
    {
     "name": "stdout",
     "output_type": "stream",
     "text": [
      "Question: Following the Five Precepts, practicing meditation, using Buddha's teachings as a refuge, and trying to be mindful throughout the day, but not being able to do it often. When I see my own weaknesses, I become aware of my breath and turn to Buddha. I see my thoughts going back and forth. When I get angry, I can't control myself well. After the anger subsides, I feel a lot of suffering and remorse. How can I control anger?\n",
      "\n",
      "Answer: We can't control it. But if we see that when we get angry, what follows is suffering. We frequently see suffering, and our mind does not want it. It sees suffering and blame. The mind gradually relaxes. When we get angry at someone, the first person to suffer and the last person to suffer is ourselves. It suffers. Don't try to fix it. The more we try to fix it, the stronger it gets. When anger arises, we know it. When it goes away, we know it. If we get angry and then break a precept, like scolding someone, we must face the consequences. Facing the consequences does not resolve the situation. When we get angry and scold someone, they will dislike us. When our mind is in a bad mood, we say that person used to be like this. The mind will think of that person more quickly. This is our accumulated consequences. We will be a bad person.\n",
      "\n",
      "Therefore, we rely on mindfulness. When anger arises, we know it. We immediately prevent ourselves from violating precepts. Then, the mind becomes sad and sulks. We see suffering and blame. Oh, there is a desire and we engage in unwholesome actions. There is an accumulation of sorrow. We can't fix it. We must face it. As the mind moves forward, it will become sharper and more aware. Oh, when we get angry, it is suffering every time. Seeing this, we should stop being angry ourselves. Being serious about life too much is not good. We are tired. We are serious about life, and we ourselves are tired. People around us are also tired. \"Ease up a little, ease up a little,\" keep saying that. Oh, this kind of mind is good. Then the people around us, huh, newsflash, they'll see it. The mind is happy. It's easy like this. Look at it. The more we ponder on it, the more stressed we become.\n"
     ]
    }
   ],
   "source": [
    "print(response['choices'][0]['message']['content'])"
   ]
  },
  {
   "cell_type": "code",
   "execution_count": 10,
   "id": "4812f726-d7ee-4450-8391-2dc1608d8894",
   "metadata": {},
   "outputs": [],
   "source": [
    "response = openai.ChatCompletion.create(\n",
    "    model=\"gpt-4\",\n",
    "    messages=[\n",
    "        {\"role\": \"system\", \"content\": \"You are a helpful Thai-to-English translator specialized for Buddhism dhamma teaching.\"},\n",
    "        {\"role\": \"user\", \"content\": content\n",
    "        }\n",
    "    ],\n",
    "    temperature=1\n",
    ")"
   ]
  },
  {
   "cell_type": "code",
   "execution_count": 11,
   "id": "ca02c785-f09a-44cb-b812-c1650e5a6f2f",
   "metadata": {},
   "outputs": [
    {
     "name": "stdout",
     "output_type": "stream",
     "text": [
      "Question: I uphold the five precepts and meditate regularly, using Buddha as my sanctuary. Throughout the day, I try to be mindful but often struggle. When I become aware of my own defilements, my attention goes to my breathing and practicing the recitation of Buddha. I find my thought patterns changing. When I am angered, I struggle to control myself, and after the anger dissipates, I suffer greatly. How can I control my anger better?\n",
      "\n",
      "Answer: It's not really about control. But if we observe that the result of our anger is suffering, and we see this frequently, our mind will naturally reject it. It will see the suffering, realize the harm, and begin to let go. When we're angry at others, the person who suffers first and last is ourselves. There is no need to try to fix this, the more we desire to fix it, the more tense we'll be. You will know when the anger arises and when it dissipates. If your anger causes you to break the precepts, like insulting someone, you must face the consequences. There's no fixing breaking the precept; if we're angry and we insult others, they will inevitably dislike us. When we are in a bad mood, we tend to judge others, and the more frequently this happens, the quicker our mind judges others. This is a consequence of our own actions and will make us an unpleasant person.\n",
      "\n",
      "Therefore, we should rely on mindfulness. When anger arises, know it. If we're not mindful, we might violate the precepts and then feel disheartened. We see the suffering and the harm in this. Oh, when defilements cause us to carry out bad actions, there are disheartening consequences that we cannot fix, we must bear them. Then the mind will slowly become weary, like \"Oh, every time I get angry, I suffer every time\". When you see this, eventually anger will dissipate on its own. Taking life too seriously can be detrimental, it’s tiresome. We tire ourselves out, and tire those around us as well. Take it easy a bit, let it be. A mind like that will be happier, and then people around us would also feel more at ease. Do you see? This is how the mind finds happiness, in this simple way, let the observing go on. The more you push it the more tense you will be.\n"
     ]
    }
   ],
   "source": [
    "print(response['choices'][0]['message']['content'])"
   ]
  },
  {
   "cell_type": "code",
   "execution_count": 12,
   "id": "af185b8c-4c6a-48ff-823b-a73c12d39e69",
   "metadata": {},
   "outputs": [
    {
     "name": "stdout",
     "output_type": "stream",
     "text": [
      "Question: I observe the five precepts, practice walking and sitting meditation, and use Buddha as a refuge. Throughout the day, I try to be aware but I am not often successful. When I notice my defilements, I would focus on my breath and recite the name of the Buddha. I see my thoughts fluctuating. When I am angry, I can't control myself well. After the anger has passed, there is a lot of suffering and torment. How can I manage my anger?\n",
      "\n",
      "---\n",
      "Answer: You can't really control it. But if we see that after anger, there comes suffering. If you see this often, the mind will not want it. It sees suffering, it sees the harm, and the mind will gradually loosen up. When we are angry at others, the first person who suffers and the last person who suffers is ourselves. It's suffering. You don't need to fix it. The more you want to fix it, the more forceful the suppression becomes. If you get angry and know it, if you stop being angry and know it, that's good. If you get angry and violate precepts, like scolding others, that you must bear the consequences. You can't fix the consequences. Like when we get angry and scold someone, they will dislike us. When our mood is bad, we will blame this person, blame that person... as a habit, the mind will blame people faster and faster. This is the consequence that we accumulate, we will become bad people. \n",
      "\n",
      "So, we should be mindful. When anger rises, recognize it. If you don't recognize it in time and violate the precepts, your mind will be dejected. We will see the pain and the harm. Oh, having defilements and committing bad deeds, there will be consequences that are dejected. You can't fix the consequences, you have to accept it. And then the mind will be cautious. Oh, everytime I get angry, I suffer every time. When you see this, you will let go of your anger. Taking life too seriously is not good, it's exhausting. If we take life too seriously, we get tired, people around us get tired too. Relax a bit. Just like this, the mind would be better, and people around us, oh, like a 7 (Thai idiom meaning to be relaxed). You see? The mind is happier. It's simple like this. Keep looking. The more you press it, the more stressed it becomes.\n"
     ]
    }
   ],
   "source": [
    "response = openai.ChatCompletion.create(\n",
    "    model=\"gpt-4\",\n",
    "    messages=[\n",
    "        {\"role\": \"system\", \"content\": \"You are a helpful Thai-to-English translator specialized for Buddhism dhamma teaching.\"},\n",
    "        {\"role\": \"user\", \"content\": content\n",
    "        }\n",
    "    ],\n",
    "    temperature=0.8\n",
    ")\n",
    "\n",
    "print(response['choices'][0]['message']['content'])"
   ]
  },
  {
   "cell_type": "code",
   "execution_count": 13,
   "id": "38f0e885-232b-4097-a9fa-4db5c5e50bd4",
   "metadata": {},
   "outputs": [
    {
     "name": "stdout",
     "output_type": "stream",
     "text": [
      "Question: I observe the five precepts, practice walking meditation and sitting meditation, and use \"Buddho\" as the object of my meditation. During the day, I try to be mindful, but I can't do it often. When I notice my defilements, I focus on my breath and recite \"Buddho\". I see my thoughts come and go. When I get angry, I can't control myself well. After the anger subsides, I feel a lot of suffering. How can I manage my anger?\n",
      "\n",
      "Answer: You can't really control it. But if you see that when you get angry, suffering follows, and you see this often, your mind will not want it. It sees the suffering, it sees the harm, and the mind will gradually relax. When we get angry at others, the first person who suffers and the last person who suffers is ourselves. It's suffering. You don't need to fix it. The more you want to fix it, the more intense the defilement. Know when you're angry and when you're not. If you violate the precepts when you're angry, like cursing someone, then you must face the consequences. You can't fix the consequences. For example, if we get angry and curse someone, they will dislike us. When our mind is not in a good state, we will judge others. The mind will judge people more quickly. This is the consequence that we accumulate. We will become a bad person.\n",
      "\n",
      "So, we rely on mindfulness. Know when you get angry. If you don't realize it in time and violate the precepts, then your mind will be depressed. We see the suffering, we see the harm. Oh, having defilements and doing bad deeds, there are consequences that are depressing. You can't fix the consequences. You have to accept them. Then your mind will be disgusted. Oh, every time I get angry, I suffer. Seeing this, you will stop being angry yourself. Being too serious about life is not good. It's exhausting. We take life too seriously, we're tired, and the people around us are also tired. Take it easy, take it easy. Oh, the mind is better like this. Then the people around us, oh, they see it. The mind becomes happier. It's this simple. Look, the more you try to suppress it, the more stressed you become.\n"
     ]
    }
   ],
   "source": [
    "response = openai.ChatCompletion.create(\n",
    "    model=\"gpt-4\",\n",
    "    messages=[\n",
    "        {\"role\": \"system\", \"content\": \"You are a helpful Thai-to-English translator specialized for Buddhism dhamma teaching.\"},\n",
    "        {\"role\": \"user\", \"content\": content\n",
    "        }\n",
    "    ],\n",
    "    temperature=0.6\n",
    ")\n",
    "\n",
    "print(response['choices'][0]['message']['content'])"
   ]
  },
  {
   "cell_type": "markdown",
   "id": "19f30bb5-9e3e-4bef-b6c7-852b0136128c",
   "metadata": {},
   "source": [
    "## Long Dhamma Teaching"
   ]
  },
  {
   "cell_type": "markdown",
   "id": "800cc8b2-1b65-4013-aec1-89500f0f95c2",
   "metadata": {},
   "source": [
    "### Example1\n",
    "From (จริตเพื่อการทำวิปัสสนา)[https://www.dhamma.com/vipassana-and-character]"
   ]
  },
  {
   "cell_type": "code",
   "execution_count": 14,
   "id": "d74129f1-6fd5-4cbb-ab33-5f5da4f883cd",
   "metadata": {},
   "outputs": [],
   "source": [
    "text_org = \"\"\"\n",
    "หลวงพ่อไม่ได้มาเทศน์ที่นี่หลายเดือน วันนี้พวกเรามากันเยอะมาก ยังมีคนที่ฟังที่อื่น มีอีกส่วนหนึ่ง ในเมืองไทยก็กำลังมีการจัดคอร์สฝึกกรรมฐาน ทีมงานของหลวงพ่อส่วนหนึ่งก็ไปช่วยที่นั่น ในต่างประเทศตอนนี้ก็มีคนจีน คอร์สจีน อันนี้คนจีนเขาจัดกันเอง ก็มีพระจีนประมาณร้อยองค์กับญาติโยม 40 คน ก็ได้นั่งฟังหลวงพ่อเทศน์พร้อมๆ กับพวกเราที่นี่ เวลาแสดงธรรมแล้วมีกลุ่มเป้าหมายหลายกลุ่ม ก็เทศน์ยากหน่อย เพราะธรรมะจริงๆ มันไม่ใช่มีสคริปต์ หรือมีแบบเรียนที่ตายตัว หลักการปฏิบัตินั้นตายตัว แต่เวลาลงมือปฏิบัติมันเป็นทั้งศาสตร์ เป็นทั้งศิลป์ คนแต่ละคน แต่ละเพศ แต่ละวัย แต่ละกลุ่มอะไรอย่างนี้ มุมที่จะสัมผัสธรรมะได้ก็จะแตกต่างกัน\n",
    "\n",
    "อย่างคนรุ่นเก่าหน่อยจะมีความอดทนในการเรียนสูง เด็กรุ่นหลังเป็นยุคสมาธิสั้น สั้นมากๆ เลย ความสนใจในสิ่งใดสิ่งหนึ่งแวบเดียว เดี๋ยวก็เลิกแล้ว อยากไปทำอย่างอื่นแล้ว จะแตกต่างกับคนรุ่นก่อนๆ หรือคนที่อยู่ในภาคเกษตร เขาจะมีเวลาที่จะทำสมาธิเยอะกว่าพวกเราที่อยู่ในเมือง ฉะนั้นเวลาถ่ายทอดธรรมะ ถ่ายทอดคนแต่ละกลุ่ม มันก็จะต้องแตกต่างกันไป\n",
    "\"\"\"\n",
    "\n",
    "content = f\"\"\"Please translate the following dhamma teaching from Thai to English:\n",
    "\n",
    "---\n",
    "{text_org}\n",
    "\n",
    "---\n",
    "\"\"\""
   ]
  },
  {
   "cell_type": "code",
   "execution_count": 16,
   "id": "2d212bcc-3cd0-4714-acba-ff4d1b6ab04c",
   "metadata": {},
   "outputs": [
    {
     "name": "stdout",
     "output_type": "stream",
     "text": [
      "The venerable father has not given a sermon here for many months. Today, we have a large gathering. There are some people listening in other places. Another part is in Thailand where there is a course on karma practice. Some members of the venerable father's team have gone to help there. Abroad now, there are Chinese people, a Chinese course. This is arranged by the Chinese themselves, including about a hundred Chinese monks and 40 laypeople, who get to listen to the venerable father's sermon simultaneously with us here. When delivering the dhamma, there are many target groups, so it's a bit challenging. Because the real dhamma does not have a script, or a fixed study model. The principle of practice is fixed, but when it comes to actually practicing, it's both a science and an art. Each person, each gender, each age, each group has different perspectives to understand the dhamma.\n",
      "\n",
      "For example, older people tend to be more patient in learning. The younger generation is the era of short concentration. They focus on something for a fleeting moment, then they are over it and want to do something else. This is different from the previous generations, or people living in agriculture who have more time for meditation than us living in the cities. Therefore, when transmitting the dhamma, transmitting to each group, it has to be different.\n"
     ]
    }
   ],
   "source": [
    "response = openai.ChatCompletion.create(\n",
    "    model=\"gpt-4\",\n",
    "    messages=[\n",
    "        {\"role\": \"system\", \"content\": \"You are a helpful Thai-to-English translator specialized for Buddhism dhamma teaching.\"},\n",
    "        {\"role\": \"user\", \"content\": content\n",
    "        }\n",
    "    ],\n",
    "    temperature=0.8\n",
    ")\n",
    "\n",
    "print(response['choices'][0]['message']['content'])"
   ]
  },
  {
   "cell_type": "code",
   "execution_count": 15,
   "id": "48db25ab-a5af-4d5a-84be-0431bcf55f49",
   "metadata": {},
   "outputs": [
    {
     "name": "stdout",
     "output_type": "stream",
     "text": [
      "The Venerable Father has not given a sermon here for several months. Today, we have a large gathering. There are others who are listening elsewhere. Another group is currently participating in a morality training course in Thailand. A part of the Venerable Father's team has gone to assist there. Overseas, there are Chinese people attending a Chinese course. This is organized by the Chinese themselves, with about a hundred Chinese monks and 40 laypeople. They are listening to the Venerable Father's sermon concurrently with us here. When delivering dhamma, there are various target groups, making the sermon a bit challenging because the true dhamma does not have a fixed script or rigid study model. The principles of practice are fixed, but when it comes to actual practice, it's both a science and an art. Each person, each gender, each age group, each group in general, will perceive the dhamma differently.\n",
      "\n",
      "For instance, the older generation tends to have more patience in learning. The younger generation belongs to an era of short attention spans. They show interest in something for a fleeting moment, then they lose interest and want to do something else. This is different from the previous generations or those living in agricultural areas. They have more time for meditation than those of us living in the city. Therefore, when transmitting dhamma, the approach must differ for each group.\n"
     ]
    }
   ],
   "source": [
    "response = openai.ChatCompletion.create(\n",
    "    model=\"gpt-4\",\n",
    "    messages=[\n",
    "        {\"role\": \"system\", \"content\": \"You are a helpful Thai-to-English translator specialized for Buddhism dhamma teaching.\"},\n",
    "        {\"role\": \"user\", \"content\": content\n",
    "        }\n",
    "    ],\n",
    "    temperature=0.6\n",
    ")\n",
    "\n",
    "print(response['choices'][0]['message']['content'])"
   ]
  },
  {
   "cell_type": "code",
   "execution_count": 17,
   "id": "1a92f89b-9e57-4d8c-a909-518304e1c05e",
   "metadata": {},
   "outputs": [],
   "source": [
    "content = f\"\"\"\n",
    "There are some Thai words we want to translate into some specific words in English, which are listed below:\n",
    "- \"หลวงพ่อ\" --> \"I\"\n",
    "- \"ศีล 5\" --> \"Five Precepts\"\n",
    "\n",
    "Please translate the following dhamma teaching from Thai to English:\n",
    "\n",
    "---\n",
    "{text_org}\n",
    "\n",
    "---\n",
    "\"\"\""
   ]
  },
  {
   "cell_type": "code",
   "execution_count": 18,
   "id": "8de6bd7c-0e6c-43a7-9c7d-bf07861ac8f7",
   "metadata": {},
   "outputs": [
    {
     "name": "stdout",
     "output_type": "stream",
     "text": [
      "I haven't given a sermon here for several months. Today, we have many people gathered here, and there are others who are listening from different places. There's another group in Thailand currently organizing a training course on practicing the dhamma. Some of my team members have gone to assist there. Meanwhile, in foreign countries, there are Chinese people participating in a Chinese course. This Chinese course is organized by the Chinese themselves, with about a hundred Chinese monks and 40 lay followers. They also get to listen to my sermon simultaneously with us here. When delivering dhamma to different target groups, it can be a bit challenging. The true dhamma doesn't have a rigid script or a fixed lesson plan. The principles are fixed, but when it comes to the actual practice, it becomes both a science and an art. Each person, each gender, each age group, each group of people, will perceive the dhamma differently.\n",
      "\n",
      "For instance, the older generation tends to have a higher tolerance for learning. The younger generation lives in an era of short attention spans. They focus on something for a brief moment before losing interest and moving on to something else. This differs from previous generations or those living in agricultural areas who have more time for meditation than us living in the cities. Therefore, when transmitting dhamma, the way we transmit it to each group must differ.\n"
     ]
    }
   ],
   "source": [
    "response = openai.ChatCompletion.create(\n",
    "    model=\"gpt-4\",\n",
    "    messages=[\n",
    "        {\"role\": \"system\", \"content\": \"You are a helpful Thai-to-English translator specialized for Buddhism dhamma teaching.\"},\n",
    "        {\"role\": \"user\", \"content\": content\n",
    "        }\n",
    "    ],\n",
    "    temperature=0.8\n",
    ")\n",
    "\n",
    "print(response['choices'][0]['message']['content'])"
   ]
  },
  {
   "cell_type": "code",
   "execution_count": 21,
   "id": "7e219acc-53ac-41e2-a168-9d47d0f7a96e",
   "metadata": {},
   "outputs": [],
   "source": [
    "content = f\"\"\"\n",
    "There are some Thai words we want to translate into some specific words in English, which are listed below:\n",
    "- \"หลวงพ่อ\" --> \"I\"\n",
    "- \"ศีล 5\" --> \"Five Precepts\"\n",
    "\n",
    "Please translate the following dhamma teaching from Thai to English:\n",
    "\n",
    "---\n",
    "{text_org}\n",
    "\n",
    "---\n",
    "\n",
    "and please display the resulting translations sentence by sentence, in the following format, using \"=====\" as a sentence separator:\n",
    "```\n",
    "=====\n",
    "English Translation: {{One English translation sentence}}\n",
    "\n",
    "---\n",
    "Thai Original: {{the corresponding Thai original text}}\n",
    "=====\n",
    "```\n",
    "\"\"\""
   ]
  },
  {
   "cell_type": "code",
   "execution_count": 22,
   "id": "742b0234-7077-46b6-a1a7-3b34aec972e9",
   "metadata": {},
   "outputs": [
    {
     "name": "stdout",
     "output_type": "stream",
     "text": [
      "```\n",
      "=====\n",
      "English Translation: I haven't given a sermon here for several months.\n",
      "\n",
      "---\n",
      "Thai Original: หลวงพ่อไม่ได้มาเทศน์ที่นี่หลายเดือน\n",
      "=====\n",
      "English Translation: Today, there are many of us here, with some listening from other places.\n",
      "\n",
      "---\n",
      "Thai Original: วันนี้พวกเรามากันเยอะมาก ยังมีคนที่ฟังที่อื่น\n",
      "=====\n",
      "English Translation: Another part is in Thailand, where a course on practice base training is being organized.\n",
      "\n",
      "---\n",
      "Thai Original: มีอีกส่วนหนึ่ง ในเมืองไทยก็กำลังมีการจัดคอร์สฝึกกรรมฐาน\n",
      "=====\n",
      "English Translation: Part of my team has gone to help there.\n",
      "\n",
      "---\n",
      "Thai Original: ทีมงานของหลวงพ่อส่วนหนึ่งก็ไปช่วยที่นั่น\n",
      "=====\n",
      "English Translation: In foreign countries, there are Chinese people, a Chinese course, which they organize themselves.\n",
      "\n",
      "---\n",
      "Thai Original: ในต่างประเทศตอนนี้ก็มีคนจีน คอร์สจีน อันนี้คนจีนเขาจัดกันเอง\n",
      "=====\n",
      "English Translation: There are about a hundred Chinese monks and 40 laypeople who get to listen to my sermon along with us here.\n",
      "\n",
      "---\n",
      "Thai Original: ก็มีพระจีนประมาณร้อยองค์กับญาติโยม 40 คน ก็ได้นั่งฟังหลวงพ่อเทศน์พร้อมๆ กับพวกเราที่นี่\n",
      "=====\n",
      "English Translation: When giving a Dhamma talk, there are many target groups, so it's a bit difficult because the true Dhamma doesn't have a script or a fixed study pattern.\n",
      "\n",
      "---\n",
      "Thai Original: เวลาแสดงธรรมแล้วมีกลุ่มเป้าหมายหลายกลุ่ม ก็เทศน์ยากหน่อย เพราะธรรมะจริงๆ มันไม่ใช่มีสคริปต์ หรือมีแบบเรียนที่ตายตัว\n",
      "=====\n",
      "English Translation: The principle is fixed, but when it comes to practice, it becomes both science and art. \n",
      "\n",
      "---\n",
      "Thai Original: หลักการปฏิบัตินั้นตายตัว แต่เวลาลงมือปฏิบัติมันเป็นทั้งศาสตร์ เป็นทั้งศิลป์\n",
      "=====\n",
      "English Translation: Everyone, regardless of gender, age, or group, will perceive the Dhamma in different ways.\n",
      "\n",
      "---\n",
      "Thai Original: คนแต่ละคน แต่ละเพศ แต่ละวัย แต่ละกลุ่มอะไรอย่างนี้ มุมที่จะสัมผัสธรรมะได้ก็จะแตกต่างกัน\n",
      "=====\n",
      "English Translation: For example, the older generation tends to have more patience in learning.\n",
      "\n",
      "---\n",
      "Thai Original: อย่างคนรุ่นเก่าหน่อยจะมีความอดทนในการเรียนสูง\n",
      "=====\n",
      "English Translation: The younger generation has a shorter attention span.\n",
      "\n",
      "---\n",
      "Thai Original: เด็กรุ่นหลังเป็นยุคสมาธิสั้น สั้นมากๆ เลย\n",
      "=====\n",
      "English Translation: Their interest in something lasts only briefly before they're onto the next thing.\n",
      "\n",
      "---\n",
      "Thai Original: ความสนใจในสิ่งใดสิ่งหนึ่งแวบเดียว เดี๋ยวก็เลิกแล้ว อยากไปทำอย่างอื่นแล้ว\n",
      "=====\n",
      "English Translation: This is different from the previous generations, or those living in agricultural areas.\n",
      "\n",
      "---\n",
      "Thai Original: จะแตกต่างกับคนรุ่นก่อนๆ หรือคนที่อยู่ในภาคเกษตร\n",
      "=====\n",
      "English Translation: They have more time to meditate than we do in the city.\n",
      "\n",
      "---\n",
      "Thai Original: เขาจะมีเวลาที่จะทำสมาธิเยอะกว่าพวกเราที่อยู่ในเมือง\n",
      "=====\n",
      "English Translation: Therefore, when transmitting the Dhamma, it has to vary depending on each group.\n",
      "\n",
      "---\n",
      "Thai Original: ฉะนั้นเวลาถ่ายทอดธรรมะ ถ่ายทอดคนแต่ละกลุ่ม มันก็จะต้องแตกต่างกันไป\n",
      "=====\n"
     ]
    }
   ],
   "source": [
    "response = openai.ChatCompletion.create(\n",
    "    model=\"gpt-4\",\n",
    "    messages=[\n",
    "        {\"role\": \"system\", \"content\": \"You are a helpful Thai-to-English translator specialized for Buddhism dhamma teaching.\"},\n",
    "        {\"role\": \"user\", \"content\": content\n",
    "        }\n",
    "    ],\n",
    "    temperature=0.8\n",
    ")\n",
    "\n",
    "print(response['choices'][0]['message']['content'])"
   ]
  },
  {
   "cell_type": "code",
   "execution_count": null,
   "id": "84ae1801-61cd-49c6-b9d4-c60834042497",
   "metadata": {},
   "outputs": [],
   "source": []
  }
 ],
 "metadata": {
  "kernelspec": {
   "display_name": "Python 3 (ipykernel)",
   "language": "python",
   "name": "python3"
  },
  "language_info": {
   "codemirror_mode": {
    "name": "ipython",
    "version": 3
   },
   "file_extension": ".py",
   "mimetype": "text/x-python",
   "name": "python",
   "nbconvert_exporter": "python",
   "pygments_lexer": "ipython3",
   "version": "3.9.17"
  }
 },
 "nbformat": 4,
 "nbformat_minor": 5
}
